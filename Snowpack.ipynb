{
 "cells": [
  {
   "cell_type": "markdown",
   "metadata": {},
   "source": [
    "# Snowpack Project\n",
    "- Carlos Macedo\n",
    "- John Pugh"
   ]
  },
  {
   "cell_type": "code",
   "execution_count": null,
   "metadata": {
   
    "collapsed": true
   },
   "source": [ "#Input of Data
inputs = csv.reader(open("data1.csv"), delimiter = "," )
in2013 = csv.reader(open("data2013.csv"), delimiter = "," )
in2014 = csv.reader(open("data2014.csv"), delimiter = "," )
in2015 = csv.reader(open("data2015.csv"), delimiter = "," )
in2016 = csv.reader(open("data2016.csv"), delimiter = "," )
in2017 = csv.reader(open("data2017.csv"), delimiter = "," )

#Insert Data Into List
arr = list(inputs)
arr13 = list(in2013)
arr14 = list(in2014)
arr15 = list(in2015)
arr16 = list(in2016)
arr17 = list(in2017)

#convert list to numpy array

data = np.array(arr)
data13 = np.array(arr13)
data14 = np.array(arr14)
data15 = np.array(arr15)
data16 = np.array(arr16)
data17 = np.array(arr17)

#Transpose Array
data = data.T
data13 = data13.T
data14 = data14.T
data15 = data15.T
data16 = data16.T
data17 = data17.T

#Assign Values to Variables

#current year (2018)
dates = data[0]
times = data[1]
date = []
depth = data[2].astype(float)

#2013
dates13= data13[0]
times13 = data13[1]
date13 = []
depth13 = data13[2].astype(float)

#2014

dates14= data14[0]
times14 = data14[1]
date14 = []
depth14 = data14[2].astype(float)

#2015

dates15= data15[0]
times15 = data15[1]
date15 = []
depth15= data15[2].astype(float)

#2016

dates16= data16[0]
times16 = data16[1]
date16 = []
depth16 = data16[2].astype(float)

#2017

dates17= data17[0]
times17 = data17[1]
date17 = []
depth17 = data17[2].astype(float)


#Create a Datetime object

#Current Year (2018)

for idx in range(len(dates)):
    date += [dt.datetime.strptime(dates[idx] + "T" + times[idx], "%m/%d/%YT%H:%M")]

#2013

for idx in range(len(dates13)):
    date13 += [dt.datetime.strptime(dates13[idx] + "T" + times13[idx], "%m/%d/%YT%H:%M")]

#2014

for idx in range(len(dates14)):
    date14 += [dt.datetime.strptime(dates14[idx] + "T" + times14[idx], "%m/%d/%YT%H:%M")]

#2015

for idx in range(len(dates15)):
    date15 += [dt.datetime.strptime(dates15[idx] + "T" + times15[idx], "%m/%d/%YT%H:%M")]

#2016

for idx in range(len(dates16)):
    date16 += [dt.datetime.strptime(dates16[idx] + "T" + times16[idx], "%m/%d/%YT%H:%M")]

#2017

for idx in range(len(dates17)):
    date17 += [dt.datetime.strptime(dates17[idx] + "T" + times17[idx], "%m/%d/%YT%H:%M")]

"]
  }
 ],
 "metadata": {
  "kernelspec": {
   "display_name": "Python 3",
   "language": "python",
   "name": "python3"
  },
  "language_info": {
   "codemirror_mode": {
    "name": "ipython",
    "version": 3
   },
   "file_extension": ".py",
   "mimetype": "text/x-python",
   "name": "python",
   "nbconvert_exporter": "python",
   "pygments_lexer": "ipython3",
   "version": "3.6.4"
  }
 },
 "nbformat": 4,
 "nbformat_minor": 2
}
