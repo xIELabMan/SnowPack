{
 "cells": [
  {
   "cell_type": "markdown",
   "metadata": {},
   "source": [
    "# Snowpack Project\n",
    "- Carlos Macedo\n",
    "- John Pugh"
   ]
  },
  {
   "cell_type": "code",
   "execution_count": null,
   "metadata": {
   
    "collapsed": true
   },
   "source": [ " import numpy as np"
"import matplotlib.pyplot as plt"
"import csv"
"import datetime as dt"
              
" #Input of Data "
]
  }
 ],
 "metadata": {
  "kernelspec": {
   "display_name": "Python 3",
   "language": "python",
   "name": "python3"
  },
  "language_info": {
   "codemirror_mode": {
    "name": "ipython",
    "version": 3
   },
   "file_extension": ".py",
   "mimetype": "text/x-python",
   "name": "python",
   "nbconvert_exporter": "python",
   "pygments_lexer": "ipython3",
   "version": "3.6.4"
  }
 },
 "nbformat": 4,
 "nbformat_minor": 2
}
