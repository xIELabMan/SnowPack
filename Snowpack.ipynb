
# coding: utf-8

# In[1]:


import numpy as np
import matplotlib.pyplot as plt
import csv
import datetime as dt


# In[62]:


#Input of Data
inputs = csv.reader(open("data1.csv"), delimiter = "," )
in2013 = csv.reader(open("data2013.csv"), delimiter = "," )
in2014 = csv.reader(open("data2014.csv"), delimiter = "," )
in2015 = csv.reader(open("data2015.csv"), delimiter = "," )
in2016 = csv.reader(open("data2016.csv"), delimiter = "," )
in2017 = csv.reader(open("data2017.csv"), delimiter = "," )

#Insert Data Into List
arr = list(inputs)
arr13 = list(in2013)
arr14 = list(in2014)
arr15 = list(in2015)
arr16 = list(in2016)
arr17 = list(in2017)

#convert list to numpy array

data = np.array(arr)
data13 = np.array(arr13)
data14 = np.array(arr14)
data15 = np.array(arr15)
data16 = np.array(arr16)
data17 = np.array(arr17)

#Transpose Array
data = data.T
data13 = data13.T
data14 = data14.T
data15 = data15.T
data16 = data16.T
data17 = data17.T

#Assign Values to Variables

#current year (2018)
dates = data[0]
times = data[1]
date = []
depth = data[2].astype(float)

#2013
dates13= data13[0]
times13 = data13[1]
date13 = []
depth13 = data13[2].astype(float)

#2014

dates14= data14[0]
times14 = data14[1]
date14 = []
depth14 = data14[2].astype(float)

#2015

dates15= data15[0]
times15 = data15[1]
date15 = []
depth15= data15[2].astype(float)

#2016

dates16= data16[0]
times16 = data16[1]
date16 = []
depth16 = data16[2].astype(float)

#2017

dates17= data17[0]
times17 = data17[1]
date17 = []
depth17 = data17[2].astype(float)


#Create a Datetime object

#Current Year (2018)

for idx in range(len(dates)):
    date += [dt.datetime.strptime(dates[idx] + "T" + times[idx], "%m/%d/%YT%H:%M")]

#2013

for idx in range(len(dates13)):
    date13 += [dt.datetime.strptime(dates13[idx] + "T" + times13[idx], "%m/%d/%YT%H:%M")]

#2014

for idx in range(len(dates14)):
    date14 += [dt.datetime.strptime(dates14[idx] + "T" + times14[idx], "%m/%d/%YT%H:%M")]

#2015

for idx in range(len(dates15)):
    date15 += [dt.datetime.strptime(dates15[idx] + "T" + times15[idx], "%m/%d/%YT%H:%M")]

#2016

for idx in range(len(dates16)):
    date16 += [dt.datetime.strptime(dates16[idx] + "T" + times16[idx], "%m/%d/%YT%H:%M")]

#2017

for idx in range(len(dates17)):
    date17 += [dt.datetime.strptime(dates17[idx] + "T" + times17[idx], "%m/%d/%YT%H:%M")]



# In[61]:


# Plots of Raw Data

# Individual Plots 

plt.figure(figsize=(10,10))

plt.subplot(121)
plt.plot(date13,depth13)
plt.xlabel("Time")
plt.ylabel("Snow Depth (in) ")
plt.title("Snow Depth over the 2013 water year")

plt.subplot(122)
plt.plot(date14,depth14)
plt.xlabel("Time")
plt.ylabel("Snow Depth (in) ")
plt.title("Snow Depth over the 2014 water year")

plt.tight_layout()
plt.show()


plt.figure(figsize=(10,10))

plt.subplot(121)
plt.plot(date15,depth15)
plt.xlabel("Time")
plt.ylabel("Snow Depth (in) ")
plt.title("Snow Depth over the 2015 water year")

plt.subplot(122)
plt.plot(date16,depth16)
plt.xlabel("Time")
plt.ylabel("Snow Depth (in) ")
plt.title("Snow Depth over the 2016 water year")

plt.tight_layout()
plt.show()

plt.figure(figsize=(10,10))

plt.subplot(121)
plt.plot(date17,depth17)
plt.xlabel("Time")
plt.ylabel("Snow Depth (in) ")
plt.title("Snow Depth over the 2017 water year")

plt.subplot(122)
plt.plot(date,depth)
plt.xlabel("Time")
plt.ylabel("Snow Depth (in) ")
plt.title("Snow Depth over the current water year")
plt.tight_layout()
plt.show()


# Collective plots

plt.figure(figsize =(10,10))

plt.plot(date,depth, label =" Cuurent Year")
plt.plot(date17,depth17, label = "2017")
plt.plot(date16,depth16, label = "2016")
plt.plot(date15,depth15, label = "2015")
plt.plot(date14,depth14, label = "2014")
plt.plot(date13,depth13, label = "2013")
plt.ylabel("Snow Depth ( in )")
plt.xlabel("Time")
plt.title("Snow Depth Over a 5 Water Years period")
plt.legend(loc = "upper right", title = "Year", shadow  = True, fancybox = True)
plt.show()

plt.figure(figsize =(10,10))
plt.plot(depth, label = " Current Year")
plt.plot(depth17, label = " 2017")
plt.plot(depth16, label = "2016")
plt.plot(depth15, label = "2015")
plt.plot(depth14, label = "2014")
plt.plot(depth13, label = "2013")
plt.ylabel("Snow Depth ( in )")
plt.title("Snow Depth Over a 5 Water Year period")
plt.legend(loc = "upper right", title = "Year", shadow  = True, fancybox = True)

plt.show()


# In[78]:


#Important Values

# Max Values 

#current
y = np.amax(depth)
x = np.where(depth == y)
daymax = dates[x]
print("The current maximum depth of snow is: %f in \nIt occured at : %s\n" % (y,daymax[0]))

#2017

y17 = np.amax(depth17)
x17 = np.where(depth17 == y17)
daymax17 = dates17[x17]
print("The maximum depth in 2017 was: %f in \nIt occured at : %s\n" % (y17,daymax17[0]))

#2016

y16 = np.amax(depth16)
x16 = np.where(depth16 == y16)
daymax16 = dates16[x16]
print("The maximum depth in 2016 was: %f in \nIt occured at : %s\n" % (y16,daymax16[0]))

#2015


y15 = np.amax(depth15)
x15 = np.where(depth15 == y15)
daymax14 = dates14[x15]
print("The maximum depth in 2015 was: %f in \nIt occured at : %s\n" % (y15,daymax15[0]))

#2014
y14 = np.amax(depth14)
x14 = np.where(depth14 == y14)
daymax14 = dates14[x14]
print("The maximum depth in 2014 was: %f in \nIt occured at : %s\n" % (y14,daymax14[0]))

# 2013
y13 = np.amax(depth13)
x13 = np.where(depth13 == y13)
daymax13 = dates13[x13]
print("The maximum depth in 2013 was: %f in \nIt occured at : %s\n" % (y13,daymax13[0]))



# In[100]:


# Critical Points Plots

plt.figure(figsize =(10,10))
plt.plot(depth17[1000:6000], label = " 2017")
plt.plot(depth16[1000:6000], label = "2016")
plt.plot(depth15[1000:6000], label = "2015")
plt.plot(depth14[1000:6000], label = "2014")
plt.plot(depth13[1000:6000], label = "2013")
plt.ylabel("Snow Depth ( in )")
plt.title("Snow Depth Over a 5 Water Year period")
plt.legend(loc = "upper right", title = "Year", shadow  = True, fancybox = True)

plt.show()


# In[127]:


a = np.polyfit(np.arange(0,len(date)),depth,5)
b = np.polyfit(np.arange(0,len(date17)),depth17,1)
c = np.polyfit(np.arange(0,len(date16)),depth16,1)
d = np.polyfit(np.arange(0,len(date15)),depth15,1)
e = np.polyfit(np.arange(0,len(date14)),depth14,1)
f = np.polyfit(np.arange(0,len(date13)),depth13,1)

a1 = np.polyval(np.arange(0,len(date[0:100])), np.poly1d(depth[0:100]))
b1 = np.polyval(np.arange(0,len(date17[0:100])), np.poly1d(depth17[0:100]))
c1 = np.polyval(np.arange(0,len(date16[0:100])), np.poly1d(depth16[0:100]))
d1 = np.polyval(np.arange(0,len(date15[0:100])), np.poly1d(depth15[0:100]))
e1 = np.polyval(np.arange(0,len(date14[0:100])), np.poly1d(depth14[0:100]))
f1 = np.polyval(np.arange(0,len(date13[0:100])), np.poly1d(depth13[0:100]))
plt.figure(figsize = (10,10))
#plt.plot(a1)
#plt.plot(b1)
#plt.plot(c1)
#plt.plot(d1)
#plt.plot(e1)
#plt.plot(f1)

plt.show()

